{
  "nbformat": 4,
  "nbformat_minor": 0,
  "metadata": {
    "colab": {
      "provenance": []
    },
    "kernelspec": {
      "name": "python3",
      "display_name": "Python 3"
    },
    "language_info": {
      "name": "python"
    }
  },
  "cells": [
    {
      "cell_type": "code",
      "execution_count": 1,
      "metadata": {
        "id": "dsO_m9sv_DLT",
        "colab": {
          "base_uri": "https://localhost:8080/"
        },
        "outputId": "c8073465-68fc-4ee0-cdf3-8a35ede5b306"
      },
      "outputs": [
        {
          "output_type": "stream",
          "name": "stdout",
          "text": [
            "\u001b[2K     \u001b[90m━━━━━━━━━━━━━━━━━━━━━━━━━━━━━━━━━━━━━━━━\u001b[0m \u001b[32m50.4/50.4 kB\u001b[0m \u001b[31m1.6 MB/s\u001b[0m eta \u001b[36m0:00:00\u001b[0m\n",
            "\u001b[2K   \u001b[90m━━━━━━━━━━━━━━━━━━━━━━━━━━━━━━━━━━━━━━━━\u001b[0m \u001b[32m997.8/997.8 kB\u001b[0m \u001b[31m32.1 MB/s\u001b[0m eta \u001b[36m0:00:00\u001b[0m\n",
            "\u001b[2K   \u001b[90m━━━━━━━━━━━━━━━━━━━━━━━━━━━━━━━━━━━━━━━━\u001b[0m \u001b[32m2.3/2.3 MB\u001b[0m \u001b[31m47.8 MB/s\u001b[0m eta \u001b[36m0:00:00\u001b[0m\n",
            "\u001b[2K   \u001b[90m━━━━━━━━━━━━━━━━━━━━━━━━━━━━━━━━━━━━━━━━\u001b[0m \u001b[32m293.6/293.6 kB\u001b[0m \u001b[31m10.9 MB/s\u001b[0m eta \u001b[36m0:00:00\u001b[0m\n",
            "\u001b[2K   \u001b[90m━━━━━━━━━━━━━━━━━━━━━━━━━━━━━━━━━━━━━━━━\u001b[0m \u001b[32m103.5/103.5 kB\u001b[0m \u001b[31m5.2 MB/s\u001b[0m eta \u001b[36m0:00:00\u001b[0m\n",
            "\u001b[2K   \u001b[90m━━━━━━━━━━━━━━━━━━━━━━━━━━━━━━━━━━━━━━━━\u001b[0m \u001b[32m393.9/393.9 kB\u001b[0m \u001b[31m16.9 MB/s\u001b[0m eta \u001b[36m0:00:00\u001b[0m\n",
            "\u001b[2K   \u001b[90m━━━━━━━━━━━━━━━━━━━━━━━━━━━━━━━━━━━━━━━━\u001b[0m \u001b[32m148.9/148.9 kB\u001b[0m \u001b[31m6.7 MB/s\u001b[0m eta \u001b[36m0:00:00\u001b[0m\n",
            "\u001b[2K   \u001b[90m━━━━━━━━━━━━━━━━━━━━━━━━━━━━━━━━━━━━━━━━\u001b[0m \u001b[32m75.6/75.6 kB\u001b[0m \u001b[31m4.4 MB/s\u001b[0m eta \u001b[36m0:00:00\u001b[0m\n",
            "\u001b[2K   \u001b[90m━━━━━━━━━━━━━━━━━━━━━━━━━━━━━━━━━━━━━━━━\u001b[0m \u001b[32m77.9/77.9 kB\u001b[0m \u001b[31m4.2 MB/s\u001b[0m eta \u001b[36m0:00:00\u001b[0m\n",
            "\u001b[2K   \u001b[90m━━━━━━━━━━━━━━━━━━━━━━━━━━━━━━━━━━━━━━━━\u001b[0m \u001b[32m49.3/49.3 kB\u001b[0m \u001b[31m2.3 MB/s\u001b[0m eta \u001b[36m0:00:00\u001b[0m\n",
            "\u001b[2K   \u001b[90m━━━━━━━━━━━━━━━━━━━━━━━━━━━━━━━━━━━━━━━━\u001b[0m \u001b[32m141.9/141.9 kB\u001b[0m \u001b[31m6.8 MB/s\u001b[0m eta \u001b[36m0:00:00\u001b[0m\n",
            "\u001b[2K   \u001b[90m━━━━━━━━━━━━━━━━━━━━━━━━━━━━━━━━━━━━━━━━\u001b[0m \u001b[32m58.3/58.3 kB\u001b[0m \u001b[31m3.7 MB/s\u001b[0m eta \u001b[36m0:00:00\u001b[0m\n",
            "\u001b[2K   \u001b[90m━━━━━━━━━━━━━━━━━━━━━━━━━━━━━━━━━━━━━━━━\u001b[0m \u001b[32m204.3/204.3 kB\u001b[0m \u001b[31m3.2 MB/s\u001b[0m eta \u001b[36m0:00:00\u001b[0m\n",
            "\u001b[?25h"
          ]
        }
      ],
      "source": [
        "! pip install --upgrade --quiet  langchain langchain-community langchain-groq neo4j\n",
        "! pip install --upgrade --quiet langchain_experimental"
      ]
    },
    {
      "cell_type": "code",
      "source": [
        "NEO4J_URI=\"YOUR_NEO4J_URL\"\n",
        "NEO4J_USERNAME=\"YOUR_NEO4J_USERNAME\"\n",
        "NEO4J_PASSWORD=\"YOUR_NEO4J_PASSWORD\"\n",
        "GROQ_API_KEY=\"YOUR_GROQ_API_KEY\""
      ],
      "metadata": {
        "id": "RmGUr7ER_dAS"
      },
      "execution_count": 3,
      "outputs": []
    },
    {
      "cell_type": "code",
      "source": [
        "from langchain_community.graphs import Neo4jGraph\n",
        "graph=Neo4jGraph(\n",
        "    url=NEO4J_URI,\n",
        "    username=NEO4J_USERNAME,\n",
        "    password=NEO4J_PASSWORD,\n",
        ")"
      ],
      "metadata": {
        "id": "2HNJLvl25NCp"
      },
      "execution_count": 4,
      "outputs": []
    },
    {
      "cell_type": "code",
      "source": [
        "import pandas as pd\n",
        "df = pd.read_csv('/content/amazon_prime_users.csv')\n",
        "column_names = df.columns.tolist()\n"
      ],
      "metadata": {
        "id": "WsclXlH8__m2"
      },
      "execution_count": 5,
      "outputs": []
    },
    {
      "cell_type": "code",
      "source": [
        "print(column_names)\n"
      ],
      "metadata": {
        "colab": {
          "base_uri": "https://localhost:8080/"
        },
        "id": "V6vegqrG8aVX",
        "outputId": "4eff5c4e-87b3-42da-e984-5421dcaf4e65"
      },
      "execution_count": 6,
      "outputs": [
        {
          "output_type": "stream",
          "name": "stdout",
          "text": [
            "['User ID', 'Name', 'Email Address', 'Username', 'Date of Birth', 'Gender', 'Location', 'Membership Start Date', 'Membership End Date', 'Subscription Plan', 'Payment Information', 'Renewal Status', 'Usage Frequency', 'Purchase History', 'Favorite Genres', 'Devices Used', 'Engagement Metrics', 'Feedback/Ratings', 'Customer Support Interactions']\n"
          ]
        }
      ]
    },
    {
      "cell_type": "code",
      "source": [
        "df.head()"
      ],
      "metadata": {
        "colab": {
          "base_uri": "https://localhost:8080/",
          "height": 347
        },
        "id": "8JyJVO9-9qFC",
        "outputId": "916bafbc-f63e-4987-9b5d-62e42f377f18"
      },
      "execution_count": 7,
      "outputs": [
        {
          "output_type": "execute_result",
          "data": {
            "text/plain": [
              "   User ID              Name                   Email Address  \\\n",
              "0        1     Ronald Murphy      williamholland@example.com   \n",
              "1        2       Scott Allen             scott22@example.org   \n",
              "2        3  Jonathan Parrish            brooke16@example.org   \n",
              "3        4    Megan Williams         elizabeth31@example.net   \n",
              "4        5     Kathryn Brown  pattersonalexandra@example.org   \n",
              "\n",
              "             Username Date of Birth  Gender        Location  \\\n",
              "0      williamholland    1953-06-03    Male  Rebeccachester   \n",
              "1             scott22    1978-07-08    Male   Mcphersonview   \n",
              "2            brooke16    1994-12-06  Female       Youngfort   \n",
              "3         elizabeth31    1964-12-22  Female    Feliciashire   \n",
              "4  pattersonalexandra    1961-06-04    Male    Port Deborah   \n",
              "\n",
              "  Membership Start Date Membership End Date Subscription Plan  \\\n",
              "0            2024-01-15          2025-01-14            Annual   \n",
              "1            2024-01-07          2025-01-06           Monthly   \n",
              "2            2024-04-13          2025-04-13           Monthly   \n",
              "3            2024-01-24          2025-01-23           Monthly   \n",
              "4            2024-02-14          2025-02-13            Annual   \n",
              "\n",
              "  Payment Information Renewal Status Usage Frequency Purchase History  \\\n",
              "0          Mastercard         Manual         Regular      Electronics   \n",
              "1                Visa         Manual         Regular      Electronics   \n",
              "2          Mastercard         Manual         Regular            Books   \n",
              "3                Amex     Auto-renew         Regular      Electronics   \n",
              "4                Visa     Auto-renew        Frequent         Clothing   \n",
              "\n",
              "  Favorite Genres Devices Used Engagement Metrics  Feedback/Ratings  \\\n",
              "0     Documentary     Smart TV             Medium               3.6   \n",
              "1          Horror   Smartphone             Medium               3.8   \n",
              "2          Comedy     Smart TV                Low               3.3   \n",
              "3     Documentary     Smart TV               High               3.3   \n",
              "4           Drama     Smart TV                Low               4.3   \n",
              "\n",
              "   Customer Support Interactions  \n",
              "0                              3  \n",
              "1                              7  \n",
              "2                              8  \n",
              "3                              7  \n",
              "4                              1  "
            ],
            "text/html": [
              "\n",
              "  <div id=\"df-426963d1-2397-45c6-8fda-e1fc18b81f2c\" class=\"colab-df-container\">\n",
              "    <div>\n",
              "<style scoped>\n",
              "    .dataframe tbody tr th:only-of-type {\n",
              "        vertical-align: middle;\n",
              "    }\n",
              "\n",
              "    .dataframe tbody tr th {\n",
              "        vertical-align: top;\n",
              "    }\n",
              "\n",
              "    .dataframe thead th {\n",
              "        text-align: right;\n",
              "    }\n",
              "</style>\n",
              "<table border=\"1\" class=\"dataframe\">\n",
              "  <thead>\n",
              "    <tr style=\"text-align: right;\">\n",
              "      <th></th>\n",
              "      <th>User ID</th>\n",
              "      <th>Name</th>\n",
              "      <th>Email Address</th>\n",
              "      <th>Username</th>\n",
              "      <th>Date of Birth</th>\n",
              "      <th>Gender</th>\n",
              "      <th>Location</th>\n",
              "      <th>Membership Start Date</th>\n",
              "      <th>Membership End Date</th>\n",
              "      <th>Subscription Plan</th>\n",
              "      <th>Payment Information</th>\n",
              "      <th>Renewal Status</th>\n",
              "      <th>Usage Frequency</th>\n",
              "      <th>Purchase History</th>\n",
              "      <th>Favorite Genres</th>\n",
              "      <th>Devices Used</th>\n",
              "      <th>Engagement Metrics</th>\n",
              "      <th>Feedback/Ratings</th>\n",
              "      <th>Customer Support Interactions</th>\n",
              "    </tr>\n",
              "  </thead>\n",
              "  <tbody>\n",
              "    <tr>\n",
              "      <th>0</th>\n",
              "      <td>1</td>\n",
              "      <td>Ronald Murphy</td>\n",
              "      <td>williamholland@example.com</td>\n",
              "      <td>williamholland</td>\n",
              "      <td>1953-06-03</td>\n",
              "      <td>Male</td>\n",
              "      <td>Rebeccachester</td>\n",
              "      <td>2024-01-15</td>\n",
              "      <td>2025-01-14</td>\n",
              "      <td>Annual</td>\n",
              "      <td>Mastercard</td>\n",
              "      <td>Manual</td>\n",
              "      <td>Regular</td>\n",
              "      <td>Electronics</td>\n",
              "      <td>Documentary</td>\n",
              "      <td>Smart TV</td>\n",
              "      <td>Medium</td>\n",
              "      <td>3.6</td>\n",
              "      <td>3</td>\n",
              "    </tr>\n",
              "    <tr>\n",
              "      <th>1</th>\n",
              "      <td>2</td>\n",
              "      <td>Scott Allen</td>\n",
              "      <td>scott22@example.org</td>\n",
              "      <td>scott22</td>\n",
              "      <td>1978-07-08</td>\n",
              "      <td>Male</td>\n",
              "      <td>Mcphersonview</td>\n",
              "      <td>2024-01-07</td>\n",
              "      <td>2025-01-06</td>\n",
              "      <td>Monthly</td>\n",
              "      <td>Visa</td>\n",
              "      <td>Manual</td>\n",
              "      <td>Regular</td>\n",
              "      <td>Electronics</td>\n",
              "      <td>Horror</td>\n",
              "      <td>Smartphone</td>\n",
              "      <td>Medium</td>\n",
              "      <td>3.8</td>\n",
              "      <td>7</td>\n",
              "    </tr>\n",
              "    <tr>\n",
              "      <th>2</th>\n",
              "      <td>3</td>\n",
              "      <td>Jonathan Parrish</td>\n",
              "      <td>brooke16@example.org</td>\n",
              "      <td>brooke16</td>\n",
              "      <td>1994-12-06</td>\n",
              "      <td>Female</td>\n",
              "      <td>Youngfort</td>\n",
              "      <td>2024-04-13</td>\n",
              "      <td>2025-04-13</td>\n",
              "      <td>Monthly</td>\n",
              "      <td>Mastercard</td>\n",
              "      <td>Manual</td>\n",
              "      <td>Regular</td>\n",
              "      <td>Books</td>\n",
              "      <td>Comedy</td>\n",
              "      <td>Smart TV</td>\n",
              "      <td>Low</td>\n",
              "      <td>3.3</td>\n",
              "      <td>8</td>\n",
              "    </tr>\n",
              "    <tr>\n",
              "      <th>3</th>\n",
              "      <td>4</td>\n",
              "      <td>Megan Williams</td>\n",
              "      <td>elizabeth31@example.net</td>\n",
              "      <td>elizabeth31</td>\n",
              "      <td>1964-12-22</td>\n",
              "      <td>Female</td>\n",
              "      <td>Feliciashire</td>\n",
              "      <td>2024-01-24</td>\n",
              "      <td>2025-01-23</td>\n",
              "      <td>Monthly</td>\n",
              "      <td>Amex</td>\n",
              "      <td>Auto-renew</td>\n",
              "      <td>Regular</td>\n",
              "      <td>Electronics</td>\n",
              "      <td>Documentary</td>\n",
              "      <td>Smart TV</td>\n",
              "      <td>High</td>\n",
              "      <td>3.3</td>\n",
              "      <td>7</td>\n",
              "    </tr>\n",
              "    <tr>\n",
              "      <th>4</th>\n",
              "      <td>5</td>\n",
              "      <td>Kathryn Brown</td>\n",
              "      <td>pattersonalexandra@example.org</td>\n",
              "      <td>pattersonalexandra</td>\n",
              "      <td>1961-06-04</td>\n",
              "      <td>Male</td>\n",
              "      <td>Port Deborah</td>\n",
              "      <td>2024-02-14</td>\n",
              "      <td>2025-02-13</td>\n",
              "      <td>Annual</td>\n",
              "      <td>Visa</td>\n",
              "      <td>Auto-renew</td>\n",
              "      <td>Frequent</td>\n",
              "      <td>Clothing</td>\n",
              "      <td>Drama</td>\n",
              "      <td>Smart TV</td>\n",
              "      <td>Low</td>\n",
              "      <td>4.3</td>\n",
              "      <td>1</td>\n",
              "    </tr>\n",
              "  </tbody>\n",
              "</table>\n",
              "</div>\n",
              "    <div class=\"colab-df-buttons\">\n",
              "\n",
              "  <div class=\"colab-df-container\">\n",
              "    <button class=\"colab-df-convert\" onclick=\"convertToInteractive('df-426963d1-2397-45c6-8fda-e1fc18b81f2c')\"\n",
              "            title=\"Convert this dataframe to an interactive table.\"\n",
              "            style=\"display:none;\">\n",
              "\n",
              "  <svg xmlns=\"http://www.w3.org/2000/svg\" height=\"24px\" viewBox=\"0 -960 960 960\">\n",
              "    <path d=\"M120-120v-720h720v720H120Zm60-500h600v-160H180v160Zm220 220h160v-160H400v160Zm0 220h160v-160H400v160ZM180-400h160v-160H180v160Zm440 0h160v-160H620v160ZM180-180h160v-160H180v160Zm440 0h160v-160H620v160Z\"/>\n",
              "  </svg>\n",
              "    </button>\n",
              "\n",
              "  <style>\n",
              "    .colab-df-container {\n",
              "      display:flex;\n",
              "      gap: 12px;\n",
              "    }\n",
              "\n",
              "    .colab-df-convert {\n",
              "      background-color: #E8F0FE;\n",
              "      border: none;\n",
              "      border-radius: 50%;\n",
              "      cursor: pointer;\n",
              "      display: none;\n",
              "      fill: #1967D2;\n",
              "      height: 32px;\n",
              "      padding: 0 0 0 0;\n",
              "      width: 32px;\n",
              "    }\n",
              "\n",
              "    .colab-df-convert:hover {\n",
              "      background-color: #E2EBFA;\n",
              "      box-shadow: 0px 1px 2px rgba(60, 64, 67, 0.3), 0px 1px 3px 1px rgba(60, 64, 67, 0.15);\n",
              "      fill: #174EA6;\n",
              "    }\n",
              "\n",
              "    .colab-df-buttons div {\n",
              "      margin-bottom: 4px;\n",
              "    }\n",
              "\n",
              "    [theme=dark] .colab-df-convert {\n",
              "      background-color: #3B4455;\n",
              "      fill: #D2E3FC;\n",
              "    }\n",
              "\n",
              "    [theme=dark] .colab-df-convert:hover {\n",
              "      background-color: #434B5C;\n",
              "      box-shadow: 0px 1px 3px 1px rgba(0, 0, 0, 0.15);\n",
              "      filter: drop-shadow(0px 1px 2px rgba(0, 0, 0, 0.3));\n",
              "      fill: #FFFFFF;\n",
              "    }\n",
              "  </style>\n",
              "\n",
              "    <script>\n",
              "      const buttonEl =\n",
              "        document.querySelector('#df-426963d1-2397-45c6-8fda-e1fc18b81f2c button.colab-df-convert');\n",
              "      buttonEl.style.display =\n",
              "        google.colab.kernel.accessAllowed ? 'block' : 'none';\n",
              "\n",
              "      async function convertToInteractive(key) {\n",
              "        const element = document.querySelector('#df-426963d1-2397-45c6-8fda-e1fc18b81f2c');\n",
              "        const dataTable =\n",
              "          await google.colab.kernel.invokeFunction('convertToInteractive',\n",
              "                                                    [key], {});\n",
              "        if (!dataTable) return;\n",
              "\n",
              "        const docLinkHtml = 'Like what you see? Visit the ' +\n",
              "          '<a target=\"_blank\" href=https://colab.research.google.com/notebooks/data_table.ipynb>data table notebook</a>'\n",
              "          + ' to learn more about interactive tables.';\n",
              "        element.innerHTML = '';\n",
              "        dataTable['output_type'] = 'display_data';\n",
              "        await google.colab.output.renderOutput(dataTable, element);\n",
              "        const docLink = document.createElement('div');\n",
              "        docLink.innerHTML = docLinkHtml;\n",
              "        element.appendChild(docLink);\n",
              "      }\n",
              "    </script>\n",
              "  </div>\n",
              "\n",
              "\n",
              "<div id=\"df-c2551f14-6c2f-47e1-8bd1-2fb89263c7b9\">\n",
              "  <button class=\"colab-df-quickchart\" onclick=\"quickchart('df-c2551f14-6c2f-47e1-8bd1-2fb89263c7b9')\"\n",
              "            title=\"Suggest charts\"\n",
              "            style=\"display:none;\">\n",
              "\n",
              "<svg xmlns=\"http://www.w3.org/2000/svg\" height=\"24px\"viewBox=\"0 0 24 24\"\n",
              "     width=\"24px\">\n",
              "    <g>\n",
              "        <path d=\"M19 3H5c-1.1 0-2 .9-2 2v14c0 1.1.9 2 2 2h14c1.1 0 2-.9 2-2V5c0-1.1-.9-2-2-2zM9 17H7v-7h2v7zm4 0h-2V7h2v10zm4 0h-2v-4h2v4z\"/>\n",
              "    </g>\n",
              "</svg>\n",
              "  </button>\n",
              "\n",
              "<style>\n",
              "  .colab-df-quickchart {\n",
              "      --bg-color: #E8F0FE;\n",
              "      --fill-color: #1967D2;\n",
              "      --hover-bg-color: #E2EBFA;\n",
              "      --hover-fill-color: #174EA6;\n",
              "      --disabled-fill-color: #AAA;\n",
              "      --disabled-bg-color: #DDD;\n",
              "  }\n",
              "\n",
              "  [theme=dark] .colab-df-quickchart {\n",
              "      --bg-color: #3B4455;\n",
              "      --fill-color: #D2E3FC;\n",
              "      --hover-bg-color: #434B5C;\n",
              "      --hover-fill-color: #FFFFFF;\n",
              "      --disabled-bg-color: #3B4455;\n",
              "      --disabled-fill-color: #666;\n",
              "  }\n",
              "\n",
              "  .colab-df-quickchart {\n",
              "    background-color: var(--bg-color);\n",
              "    border: none;\n",
              "    border-radius: 50%;\n",
              "    cursor: pointer;\n",
              "    display: none;\n",
              "    fill: var(--fill-color);\n",
              "    height: 32px;\n",
              "    padding: 0;\n",
              "    width: 32px;\n",
              "  }\n",
              "\n",
              "  .colab-df-quickchart:hover {\n",
              "    background-color: var(--hover-bg-color);\n",
              "    box-shadow: 0 1px 2px rgba(60, 64, 67, 0.3), 0 1px 3px 1px rgba(60, 64, 67, 0.15);\n",
              "    fill: var(--button-hover-fill-color);\n",
              "  }\n",
              "\n",
              "  .colab-df-quickchart-complete:disabled,\n",
              "  .colab-df-quickchart-complete:disabled:hover {\n",
              "    background-color: var(--disabled-bg-color);\n",
              "    fill: var(--disabled-fill-color);\n",
              "    box-shadow: none;\n",
              "  }\n",
              "\n",
              "  .colab-df-spinner {\n",
              "    border: 2px solid var(--fill-color);\n",
              "    border-color: transparent;\n",
              "    border-bottom-color: var(--fill-color);\n",
              "    animation:\n",
              "      spin 1s steps(1) infinite;\n",
              "  }\n",
              "\n",
              "  @keyframes spin {\n",
              "    0% {\n",
              "      border-color: transparent;\n",
              "      border-bottom-color: var(--fill-color);\n",
              "      border-left-color: var(--fill-color);\n",
              "    }\n",
              "    20% {\n",
              "      border-color: transparent;\n",
              "      border-left-color: var(--fill-color);\n",
              "      border-top-color: var(--fill-color);\n",
              "    }\n",
              "    30% {\n",
              "      border-color: transparent;\n",
              "      border-left-color: var(--fill-color);\n",
              "      border-top-color: var(--fill-color);\n",
              "      border-right-color: var(--fill-color);\n",
              "    }\n",
              "    40% {\n",
              "      border-color: transparent;\n",
              "      border-right-color: var(--fill-color);\n",
              "      border-top-color: var(--fill-color);\n",
              "    }\n",
              "    60% {\n",
              "      border-color: transparent;\n",
              "      border-right-color: var(--fill-color);\n",
              "    }\n",
              "    80% {\n",
              "      border-color: transparent;\n",
              "      border-right-color: var(--fill-color);\n",
              "      border-bottom-color: var(--fill-color);\n",
              "    }\n",
              "    90% {\n",
              "      border-color: transparent;\n",
              "      border-bottom-color: var(--fill-color);\n",
              "    }\n",
              "  }\n",
              "</style>\n",
              "\n",
              "  <script>\n",
              "    async function quickchart(key) {\n",
              "      const quickchartButtonEl =\n",
              "        document.querySelector('#' + key + ' button');\n",
              "      quickchartButtonEl.disabled = true;  // To prevent multiple clicks.\n",
              "      quickchartButtonEl.classList.add('colab-df-spinner');\n",
              "      try {\n",
              "        const charts = await google.colab.kernel.invokeFunction(\n",
              "            'suggestCharts', [key], {});\n",
              "      } catch (error) {\n",
              "        console.error('Error during call to suggestCharts:', error);\n",
              "      }\n",
              "      quickchartButtonEl.classList.remove('colab-df-spinner');\n",
              "      quickchartButtonEl.classList.add('colab-df-quickchart-complete');\n",
              "    }\n",
              "    (() => {\n",
              "      let quickchartButtonEl =\n",
              "        document.querySelector('#df-c2551f14-6c2f-47e1-8bd1-2fb89263c7b9 button');\n",
              "      quickchartButtonEl.style.display =\n",
              "        google.colab.kernel.accessAllowed ? 'block' : 'none';\n",
              "    })();\n",
              "  </script>\n",
              "</div>\n",
              "\n",
              "    </div>\n",
              "  </div>\n"
            ],
            "application/vnd.google.colaboratory.intrinsic+json": {
              "type": "dataframe",
              "variable_name": "df",
              "summary": "{\n  \"name\": \"df\",\n  \"rows\": 2500,\n  \"fields\": [\n    {\n      \"column\": \"User ID\",\n      \"properties\": {\n        \"dtype\": \"number\",\n        \"std\": 721,\n        \"min\": 1,\n        \"max\": 2500,\n        \"num_unique_values\": 2500,\n        \"samples\": [\n          1448,\n          1115,\n          1065\n        ],\n        \"semantic_type\": \"\",\n        \"description\": \"\"\n      }\n    },\n    {\n      \"column\": \"Name\",\n      \"properties\": {\n        \"dtype\": \"string\",\n        \"num_unique_values\": 2458,\n        \"samples\": [\n          \"James Clark\",\n          \"Linda Hicks\",\n          \"Cynthia Matthews\"\n        ],\n        \"semantic_type\": \"\",\n        \"description\": \"\"\n      }\n    },\n    {\n      \"column\": \"Email Address\",\n      \"properties\": {\n        \"dtype\": \"string\",\n        \"num_unique_values\": 2480,\n        \"samples\": [\n          \"salinasrobert@example.org\",\n          \"carlmartin@example.org\",\n          \"newmaneric@example.org\"\n        ],\n        \"semantic_type\": \"\",\n        \"description\": \"\"\n      }\n    },\n    {\n      \"column\": \"Username\",\n      \"properties\": {\n        \"dtype\": \"string\",\n        \"num_unique_values\": 2458,\n        \"samples\": [\n          \"chapmandonald\",\n          \"cwhitaker\",\n          \"nathan93\"\n        ],\n        \"semantic_type\": \"\",\n        \"description\": \"\"\n      }\n    },\n    {\n      \"column\": \"Date of Birth\",\n      \"properties\": {\n        \"dtype\": \"object\",\n        \"num_unique_values\": 2384,\n        \"samples\": [\n          \"1957-02-22\",\n          \"1951-11-24\",\n          \"1987-09-13\"\n        ],\n        \"semantic_type\": \"\",\n        \"description\": \"\"\n      }\n    },\n    {\n      \"column\": \"Gender\",\n      \"properties\": {\n        \"dtype\": \"category\",\n        \"num_unique_values\": 2,\n        \"samples\": [\n          \"Female\",\n          \"Male\"\n        ],\n        \"semantic_type\": \"\",\n        \"description\": \"\"\n      }\n    },\n    {\n      \"column\": \"Location\",\n      \"properties\": {\n        \"dtype\": \"string\",\n        \"num_unique_values\": 2265,\n        \"samples\": [\n          \"New Jefferyport\",\n          \"South Andrewfurt\"\n        ],\n        \"semantic_type\": \"\",\n        \"description\": \"\"\n      }\n    },\n    {\n      \"column\": \"Membership Start Date\",\n      \"properties\": {\n        \"dtype\": \"object\",\n        \"num_unique_values\": 105,\n        \"samples\": [\n          \"2024-02-04\",\n          \"2024-03-01\"\n        ],\n        \"semantic_type\": \"\",\n        \"description\": \"\"\n      }\n    },\n    {\n      \"column\": \"Membership End Date\",\n      \"properties\": {\n        \"dtype\": \"object\",\n        \"num_unique_values\": 105,\n        \"samples\": [\n          \"2025-02-03\",\n          \"2025-03-01\"\n        ],\n        \"semantic_type\": \"\",\n        \"description\": \"\"\n      }\n    },\n    {\n      \"column\": \"Subscription Plan\",\n      \"properties\": {\n        \"dtype\": \"category\",\n        \"num_unique_values\": 2,\n        \"samples\": [\n          \"Monthly\",\n          \"Annual\"\n        ],\n        \"semantic_type\": \"\",\n        \"description\": \"\"\n      }\n    },\n    {\n      \"column\": \"Payment Information\",\n      \"properties\": {\n        \"dtype\": \"category\",\n        \"num_unique_values\": 3,\n        \"samples\": [\n          \"Mastercard\",\n          \"Visa\"\n        ],\n        \"semantic_type\": \"\",\n        \"description\": \"\"\n      }\n    },\n    {\n      \"column\": \"Renewal Status\",\n      \"properties\": {\n        \"dtype\": \"category\",\n        \"num_unique_values\": 2,\n        \"samples\": [\n          \"Auto-renew\",\n          \"Manual\"\n        ],\n        \"semantic_type\": \"\",\n        \"description\": \"\"\n      }\n    },\n    {\n      \"column\": \"Usage Frequency\",\n      \"properties\": {\n        \"dtype\": \"category\",\n        \"num_unique_values\": 3,\n        \"samples\": [\n          \"Regular\",\n          \"Frequent\"\n        ],\n        \"semantic_type\": \"\",\n        \"description\": \"\"\n      }\n    },\n    {\n      \"column\": \"Purchase History\",\n      \"properties\": {\n        \"dtype\": \"category\",\n        \"num_unique_values\": 3,\n        \"samples\": [\n          \"Electronics\",\n          \"Books\"\n        ],\n        \"semantic_type\": \"\",\n        \"description\": \"\"\n      }\n    },\n    {\n      \"column\": \"Favorite Genres\",\n      \"properties\": {\n        \"dtype\": \"category\",\n        \"num_unique_values\": 7,\n        \"samples\": [\n          \"Documentary\",\n          \"Horror\"\n        ],\n        \"semantic_type\": \"\",\n        \"description\": \"\"\n      }\n    },\n    {\n      \"column\": \"Devices Used\",\n      \"properties\": {\n        \"dtype\": \"category\",\n        \"num_unique_values\": 3,\n        \"samples\": [\n          \"Smart TV\",\n          \"Smartphone\"\n        ],\n        \"semantic_type\": \"\",\n        \"description\": \"\"\n      }\n    },\n    {\n      \"column\": \"Engagement Metrics\",\n      \"properties\": {\n        \"dtype\": \"category\",\n        \"num_unique_values\": 3,\n        \"samples\": [\n          \"Medium\",\n          \"Low\"\n        ],\n        \"semantic_type\": \"\",\n        \"description\": \"\"\n      }\n    },\n    {\n      \"column\": \"Feedback/Ratings\",\n      \"properties\": {\n        \"dtype\": \"number\",\n        \"std\": 0.5807686796855711,\n        \"min\": 3.0,\n        \"max\": 5.0,\n        \"num_unique_values\": 21,\n        \"samples\": [\n          3.6,\n          3.1\n        ],\n        \"semantic_type\": \"\",\n        \"description\": \"\"\n      }\n    },\n    {\n      \"column\": \"Customer Support Interactions\",\n      \"properties\": {\n        \"dtype\": \"number\",\n        \"std\": 3,\n        \"min\": 0,\n        \"max\": 10,\n        \"num_unique_values\": 11,\n        \"samples\": [\n          10,\n          3\n        ],\n        \"semantic_type\": \"\",\n        \"description\": \"\"\n      }\n    }\n  ]\n}"
            }
          },
          "metadata": {},
          "execution_count": 7
        }
      ]
    },
    {
      "cell_type": "code",
      "source": [
        "relations = graph.refresh_schema()\n",
        "print(relations)"
      ],
      "metadata": {
        "colab": {
          "base_uri": "https://localhost:8080/"
        },
        "id": "yofWfjeMdxBz",
        "outputId": "59169364-91f5-45f9-c92c-c77e69f8562c"
      },
      "execution_count": 8,
      "outputs": [
        {
          "output_type": "stream",
          "name": "stdout",
          "text": [
            "None\n"
          ]
        }
      ]
    },
    {
      "cell_type": "code",
      "source": [
        "people_query = \"\"\"\n",
        "LOAD CSV WITH HEADERS FROM 'https://raw.githubusercontent.com/vansh-khaneja/test5/main/amazon_prime_users.csv' AS row\n",
        "\n",
        "// Merge Person node using 'Name' and 'Email Address'\n",
        "MERGE (person:Person {name: COALESCE(row.`Name`, 'Unknown'), email: COALESCE(row.`Email Address`, 'Unknown Email')})\n",
        "\n",
        "// Merge Location node only if 'Location' is not null\n",
        "MERGE (location:Location {name: COALESCE(row.`Location`, 'Unknown Location')})\n",
        "\n",
        "// Merge Subscription Plan node only if 'Subscription Plan' is not null\n",
        "MERGE (plan:SubscriptionPlan {name: COALESCE(row.`Subscription Plan`, 'Unknown Plan')})\n",
        "\n",
        "// Merge Device node for 'Devices Used'\n",
        "MERGE (deviceNode:Device {name: COALESCE(row.`Devices Used`, 'Unknown Device')})\n",
        "MERGE (person)-[:USES]->(deviceNode)\n",
        "\n",
        "// Relationships\n",
        "MERGE (person)-[:LIVES_IN]->(location)\n",
        "MERGE (person)-[:SUBSCRIBED_TO]->(plan)\n",
        "MERGE (person)-[:HAS_USER_ID]->(:UserID {id: COALESCE(row.`User ID`, 'Unknown ID')})\n",
        "MERGE (person)-[:HAS_USERNAME]->(:Username {name: COALESCE(row.`Username`, 'Unknown Username')})\n",
        "MERGE (person)-[:HAS_BIRTH_DATE]->(:BirthDate {date: COALESCE(row.`Date of Birth`, 'Unknown Date')})\n",
        "MERGE (person)-[:HAS_GENDER]->(:Gender {type: COALESCE(row.`Gender`, 'Unknown Gender')})\n",
        "MERGE (person)-[:MEMBERSHIP_STARTED_ON]->(:MembershipStartDate {date: COALESCE(row.`Membership Start Date`, 'Unknown Start Date')})\n",
        "MERGE (person)-[:MEMBERSHIP_ENDED_ON]->(:MembershipEndDate {date: COALESCE(row.`Membership End Date`, 'Unknown End Date')})\n",
        "MERGE (person)-[:HAS_PAYMENT_INFO]->(:PaymentInformation {info: COALESCE(row.`Payment Information`, 'Unknown Payment Info')})\n",
        "MERGE (person)-[:HAS_RENEWAL_STATUS]->(:RenewalStatus {status: COALESCE(row.`Renewal Status`, 'Unknown Status')})\n",
        "MERGE (person)-[:HAS_USAGE_FREQUENCY]->(:UsageFrequency {frequency: COALESCE(row.`Usage Frequency`, 'Unknown Frequency')})\n",
        "MERGE (person)-[:HAS_PURCHASE_HISTORY]->(:PurchaseHistory {history: COALESCE(row.`Purchase History`, 'Unknown History')})\n",
        "MERGE (person)-[:HAS_FAVORITE_GENRES]->(:FavoriteGenres {genres: COALESCE(row.`Favorite Genres`, 'Unknown Genres')})\n",
        "MERGE (person)-[:HAS_ENGAGEMENT_METRICS]->(:EngagementMetrics {metrics: COALESCE(row.`Engagement Metrics`, 'Unknown Metrics')})\n",
        "MERGE (person)-[:GAVE_FEEDBACK]->(:Feedback {ratings: COALESCE(row.`Feedback/Ratings`, 'No Feedback')})\n",
        "MERGE (person)-[:INTERACTED_WITH_SUPPORT]->(:CustomerSupport {interactions: COALESCE(row.`Customer Support Interactions`, 'No Interactions')})\n",
        "\n",
        "\"\"\"\n"
      ],
      "metadata": {
        "id": "BtZ6VVI-dzrm"
      },
      "execution_count": 9,
      "outputs": []
    },
    {
      "cell_type": "code",
      "source": [
        "graph.query(people_query)"
      ],
      "metadata": {
        "colab": {
          "base_uri": "https://localhost:8080/"
        },
        "id": "EnlKUrlH5lir",
        "outputId": "5e6ab22f-bb01-4488-b956-d70ae8945fff"
      },
      "execution_count": 10,
      "outputs": [
        {
          "output_type": "execute_result",
          "data": {
            "text/plain": [
              "[]"
            ]
          },
          "metadata": {},
          "execution_count": 10
        }
      ]
    },
    {
      "cell_type": "code",
      "source": [
        "from langchain_groq import ChatGroq\n",
        "\n",
        "llm=ChatGroq(groq_api_key=GROQ_API_KEY,model_name=\"llama-3.1-70b-versatile\")\n",
        "llm"
      ],
      "metadata": {
        "colab": {
          "base_uri": "https://localhost:8080/"
        },
        "id": "lFQuqLI1-vZm",
        "outputId": "cb09df90-089b-4027-8495-b0033044ee26"
      },
      "execution_count": 12,
      "outputs": [
        {
          "output_type": "execute_result",
          "data": {
            "text/plain": [
              "ChatGroq(client=<groq.resources.chat.completions.Completions object at 0x7c5bf236fb20>, async_client=<groq.resources.chat.completions.AsyncCompletions object at 0x7c5bf236ee60>, model_name='llama-3.1-70b-versatile', groq_api_key=SecretStr('**********'))"
            ]
          },
          "metadata": {},
          "execution_count": 12
        }
      ]
    },
    {
      "cell_type": "code",
      "source": [
        "from langchain.chains import GraphCypherQAChain\n",
        "\n",
        "chain = GraphCypherQAChain.from_llm(\n",
        "    graph=graph, llm=llm, verbose=True, validate_cypher=True\n",
        ")\n",
        "ans = chain.run(\"Name of location where Heidi Brock lives in return with proper namings\")\n"
      ],
      "metadata": {
        "id": "GMVNov3W-1VS",
        "colab": {
          "base_uri": "https://localhost:8080/"
        },
        "outputId": "ca23aa3c-4b17-4b59-c1ba-2ba1ce007f92"
      },
      "execution_count": 18,
      "outputs": [
        {
          "output_type": "stream",
          "name": "stdout",
          "text": [
            "\n",
            "\n",
            "\u001b[1m> Entering new GraphCypherQAChain chain...\u001b[0m\n",
            "Generated Cypher:\n",
            "\u001b[32;1m\u001b[1;3mMATCH (p:Person {name: \"Heidi Brock\"})-[:LIVES_IN]->(l:Location) RETURN p.name AS PersonName, l.name AS LocationName\u001b[0m\n",
            "Full Context:\n",
            "\u001b[32;1m\u001b[1;3m[{'PersonName': 'Heidi Brock', 'LocationName': 'Lake Gloriaport'}]\u001b[0m\n",
            "\n",
            "\u001b[1m> Finished chain.\u001b[0m\n"
          ]
        }
      ]
    },
    {
      "cell_type": "markdown",
      "source": [],
      "metadata": {
        "id": "l6DNGa6EKOR_"
      }
    },
    {
      "cell_type": "code",
      "source": [
        "print(ans)"
      ],
      "metadata": {
        "colab": {
          "base_uri": "https://localhost:8080/"
        },
        "id": "vmfFJEQM-9aw",
        "outputId": "fef8293b-0a8b-4bf8-e44c-84261ad64413"
      },
      "execution_count": 19,
      "outputs": [
        {
          "output_type": "stream",
          "name": "stdout",
          "text": [
            "Heidi Brock lives in Lake Gloriaport.\n"
          ]
        }
      ]
    }
  ]
}